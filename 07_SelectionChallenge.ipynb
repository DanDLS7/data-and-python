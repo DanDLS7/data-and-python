{
  "nbformat": 4,
  "nbformat_minor": 0,
  "metadata": {
    "colab": {
      "provenance": [],
      "include_colab_link": true
    },
    "kernelspec": {
      "name": "python3",
      "display_name": "Python 3"
    }
  },
  "cells": [
    {
      "cell_type": "markdown",
      "metadata": {
        "id": "view-in-github",
        "colab_type": "text"
      },
      "source": [
        "<a href=\"https://colab.research.google.com/github/DanDLS7/data-and-python/blob/main/07_SelectionChallenge.ipynb\" target=\"_parent\"><img src=\"https://colab.research.google.com/assets/colab-badge.svg\" alt=\"Open In Colab\"/></a>"
      ]
    },
    {
      "cell_type": "markdown",
      "metadata": {
        "id": "-QxAKPD8DZfj"
      },
      "source": [
        "# Three selection challenges\n",
        "\n",
        "---\n"
      ]
    },
    {
      "cell_type": "markdown",
      "metadata": {
        "id": "2KYUALILDcM9"
      },
      "source": [
        "### Challenge 1 - password format  \n",
        "\n",
        "Write a function called **check_password_valid()** which will check the validity of a **password** input by a user.\n",
        "\n",
        "Rules for a valid password are:  \n",
        "\n",
        "*  At least 1 letter between [a-z] and 1 letter between [A-Z].\n",
        "*  At least 1 number between [0-9].\n",
        "*  At least 1 character from [$#@].\n",
        "*  Minimum length 6 characters.\n",
        "*  Maximum length 16 characters.  \n",
        "\n",
        "Let the user know if the `password` they have typed is valid and, if not, where was the first error.\n",
        "\n",
        "*Hint:  to test if a set of characters is present in a password String, you can use re.search('[character set]', `password`)*  \n",
        "\n",
        "Example:   \n",
        "*if re.search('[a-z]',`password`):*    \n",
        "if there is at least 1 character a-z in the password, re.search will not be None.\n",
        "\n",
        "**re** is a pre-written Python function for pattern searching in Strings.  It has been imported for you in the code cell below.  "
      ]
    },
    {
      "cell_type": "code",
      "metadata": {
        "id": "8wBK9IA4BO2e",
        "colab": {
          "base_uri": "https://localhost:8080/"
        },
        "outputId": "c72d4ee6-38b1-48e3-a631-d39e44cd9a6a"
      },
      "source": [
        "import re\n",
        "# $556sQQ2sdk#2288\n",
        "# shorter password: $5Q6s\n",
        "# add your check_PasswordValid() function and call below here\n",
        "\n",
        "def check_password_valid():\n",
        "  password = input(\"please enter a password \")\n",
        "  if not re.search('[a-z]', password) :\n",
        "    print(\"You need at least one letter in lower case between a and z\")\n",
        "  elif not re.search('[A-Z]', password) :\n",
        "    print(\"You need at least one letter in upper case between A and Z\")\n",
        "  elif not re.search('[0-9]', password) :\n",
        "    print(\"You need at least one number between 0 and 9\")\n",
        "  elif not re.search('[$#@]', password) :\n",
        "    print(\"You need at least one of these characters: $#@\")\n",
        "  elif len(password) < 6 or len(password) > 16 :\n",
        "    print(\"You need a password between 6 and 16 characters\")\n",
        "  else :\n",
        "    print(\"you have chosen a valid password\")\n",
        "\n",
        "\n",
        "check_password_valid()\n",
        "\n",
        "\n"
      ],
      "execution_count": 24,
      "outputs": [
        {
          "output_type": "stream",
          "name": "stdout",
          "text": [
            "please enter a password $556sQQ2sdk#2288\n",
            "you have chosen a valid password\n"
          ]
        }
      ]
    },
    {
      "cell_type": "markdown",
      "metadata": {
        "id": "f0R4GYTEFQS-"
      },
      "source": [
        "---\n",
        "### Challenge 2 - triangle shape  \n",
        "\n",
        "Write a function called **evaluate_triangle_shape()** which will check if a triangle is equilateral, isosceles or scalene, based on the three side lengths entered by a user (**x**, **y** and **z**.\n",
        "\n",
        "An equilateral triangle is a triangle in which all three sides are equal.\n",
        "A scalene triangle is a triangle that has three unequal sides.\n",
        "An isosceles triangle is a triangle with (at least) two equal sides.\n",
        "\n",
        "For example:  \n",
        "A triange with side lengths                                 \n",
        "x: 6                                                                    \n",
        "y: 8                                                                    \n",
        "z: 12                                                                   \n",
        "is a *Scalene triangle*\n",
        "\n",
        "A triangle with side lengths\n",
        "x:5  \n",
        "y:3   \n",
        "z:5  \n",
        "is an *Isosceles triangle*"
      ]
    },
    {
      "cell_type": "code",
      "metadata": {
        "id": "oBgl4ro1DVL0",
        "colab": {
          "base_uri": "https://localhost:8080/"
        },
        "outputId": "65808bb3-78dd-4e30-d2f6-d1f01192fd4f"
      },
      "source": [
        "def evaluate_triangle_shape():\n",
        "  x = int(input(\"enter x \"))\n",
        "  y = int(input(\"enter y \"))\n",
        "  z = int(input(\"enter z \"))\n",
        "  if x == y == z :\n",
        "    print(\"This is an equilateral triangle\")\n",
        "  elif x != y and x != z and y != z :\n",
        "    print(\"This is a scalene triangle\")\n",
        "  elif x == y or x == z or y == z :\n",
        "    print(\"This is an isosceles triangle\")\n",
        "\n",
        "\n",
        "\n",
        "evaluate_triangle_shape()\n"
      ],
      "execution_count": 35,
      "outputs": [
        {
          "output_type": "stream",
          "name": "stdout",
          "text": [
            "enter x 4\n",
            "enter y 4\n",
            "enter z 6\n",
            "This is an isosceles triangle\n"
          ]
        }
      ]
    },
    {
      "cell_type": "markdown",
      "metadata": {
        "id": "hr2EotkqG33l"
      },
      "source": [
        "---\n",
        "### Challenge 3 - which season\n",
        "\n",
        "Write a function called **determine_season()** which will ask the user to enter two integers representing a **month** and **day** and prints the season for that month and day.\n",
        "\n",
        "Note:  for this exercise the season dates are:\n",
        "*  Winter December 21 to March 20    \n",
        "*  Spring March 21 to June 20  \n",
        "*  Summer June 21 to September 20  \n",
        "*  Autumn September 21 to December 20\n",
        "\n",
        "Test input:  \n",
        "Input the month (e.g. January, February etc.): 7                     \n",
        "Input the day: 31                                                       \n",
        "\n",
        "Expected output:  \n",
        "Season is summer\n",
        "\n",
        "*Note: this will require multiple and or or operators and you should use brackets to help Python know which operations to do first*  \n",
        "\n",
        "*For an extra challenge you can check that the day is valid for the month*"
      ]
    },
    {
      "cell_type": "code",
      "metadata": {
        "id": "cvbfz8nzG4IL",
        "colab": {
          "base_uri": "https://localhost:8080/"
        },
        "outputId": "5a3a6667-1345-4304-a31a-c0bcbb04d5bc"
      },
      "source": [
        "def determine_season():\n",
        "\n",
        "  # if month is >= 3 and <= 6 and day is >= than 21\n",
        "\n",
        "  month = int(input(\"enter month in a number from 1 to 12 \"))\n",
        "  day = int(input(\"enter day in a number from 1 to 31 \"))\n",
        "  month_day = (month, day)\n",
        "  if (1, 1) <= month_day < (3, 21):\n",
        "    print(\"Season is winter\")\n",
        "  elif (3, 21) <= month_day < (6, 21):\n",
        "    print(\"Season is spring\")\n",
        "  elif (6, 21) <= month_day < (9, 21):\n",
        "    print(\"Season is summer\")\n",
        "  elif (9, 21) <= month_day < (12, 21):\n",
        "    print(\"Season is autumn\")\n",
        "  elif (12, 21) <= month_day <= (12, 31):\n",
        "    print(\"Season is winter\")\n",
        "\n",
        "\n",
        "determine_season()\n",
        "\n",
        "\n",
        "\n",
        ""
      ],
      "execution_count": 10,
      "outputs": [
        {
          "output_type": "stream",
          "name": "stdout",
          "text": [
            "enter month in a number from 1 to 12 9\n",
            "enter day in a number from 1 to 31 24\n",
            "Season is autumn\n"
          ]
        }
      ]
    }
  ]
}